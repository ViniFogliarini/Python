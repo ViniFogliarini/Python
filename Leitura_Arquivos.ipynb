{
  "nbformat": 4,
  "nbformat_minor": 0,
  "metadata": {
    "colab": {
      "provenance": [],
      "mount_file_id": "1BWLdBNqsNJiKDSO_XAUu3QiT0GqiRKTl",
      "authorship_tag": "ABX9TyNPcbiS3uU6WgNkcTC7hKuF",
      "include_colab_link": true
    },
    "kernelspec": {
      "name": "python3",
      "display_name": "Python 3"
    },
    "language_info": {
      "name": "python"
    }
  },
  "cells": [
    {
      "cell_type": "markdown",
      "metadata": {
        "id": "view-in-github",
        "colab_type": "text"
      },
      "source": [
        "<a href=\"https://colab.research.google.com/github/ViniFogliarini/Python/blob/main/Leitura_Arquivos.ipynb\" target=\"_parent\"><img src=\"https://colab.research.google.com/assets/colab-badge.svg\" alt=\"Open In Colab\"/></a>"
      ]
    },
    {
      "cell_type": "markdown",
      "source": [
        "##Arquivos txt"
      ],
      "metadata": {
        "id": "WhmWxAb4ta5s"
      }
    },
    {
      "cell_type": "markdown",
      "source": [
        "#### MODO DE LEITURA | r | read()"
      ],
      "metadata": {
        "id": "HpMrGPRMxfd3"
      }
    },
    {
      "cell_type": "code",
      "execution_count": null,
      "metadata": {
        "id": "lq75GPfqs5wt"
      },
      "outputs": [],
      "source": [
        "# arquivo = open(nome_do_arquivo, modo_de_abertura)\n",
        "\n",
        "# Abertura do arquivo em modo de leitura\n",
        "arquivo = open('meu_arquivo.txt', 'r')\n",
        "\n",
        "# Lendo o conteudo do arquivo\n",
        "conteudo = arquivo.read()\n",
        "print(conteudo)\n",
        "\n",
        "# Fechamento do arquivo\n",
        "arquivo.close()"
      ]
    },
    {
      "cell_type": "code",
      "source": [
        "# LENDO LINHA A LINHA\n",
        "\n",
        "# Abertura do arquivo em modo de leitura\n",
        "arquivo = open('meu_arquivo.txt', 'r')\n",
        "\n",
        "# Lendo linha a linha no arquivo\n",
        "for linha in arquivo:\n",
        "  print(linha.strip())\n",
        "\n",
        "# Fechamento do arquivo\n",
        "arquivo.close()"
      ],
      "metadata": {
        "id": "gTumBvy0xih4"
      },
      "execution_count": null,
      "outputs": []
    },
    {
      "cell_type": "code",
      "source": [
        "# Abertura do arquivo em modo de leitura\n",
        "arquivo = open('meu_arquivo.txt', 'r')\n",
        "\n",
        "# Lendo linha a linha no arquivo com while e readline\n",
        "linha = arquivo.readline()\n",
        "\n",
        "while linha:\n",
        "  print(linha.strip())\n",
        "  linha = arquivo.readline()\n",
        "\n",
        "# Fechamento do arquivo\n",
        "arquivo.close()"
      ],
      "metadata": {
        "id": "ALrtm9CCyNS8"
      },
      "execution_count": null,
      "outputs": []
    },
    {
      "cell_type": "code",
      "source": [
        "with open('meu_arquivo.txt', 'r') as arquivo: # não precisa fechar\n",
        "  for linha in arquivo:\n",
        "    print(linha.strip())"
      ],
      "metadata": {
        "id": "WwxC0tOuy8dC"
      },
      "execution_count": null,
      "outputs": []
    },
    {
      "cell_type": "code",
      "source": [
        "# Quantas linhas tem no arquivo?\n",
        "\n",
        "with open('mensagens.txt', 'r') as arquivo_msg:\n",
        "  linhas = arquivo_msg.readlines()\n",
        "  print(\"O número de linhas é: \", len(linhas))\n"
      ],
      "metadata": {
        "id": "-iMHXAKH0aIy"
      },
      "execution_count": null,
      "outputs": []
    },
    {
      "cell_type": "markdown",
      "source": [
        "### Escrevendo em Arquivos txt"
      ],
      "metadata": {
        "id": "rZ7qpBo2R9sd"
      }
    },
    {
      "cell_type": "code",
      "source": [
        "# w = writer, escrever do zero\n",
        "# a = append, acrescenta no texto\n",
        "\n",
        "with open('teste_escrita_w.txt', 'w') as arq_w:\n",
        "  # Para Escrever\n",
        "  arq_w.write('Este é um teste de escrita\\n') # \\n é quebra de linha\n",
        "  arq_w.write('Essa é a segunda linha\\n')\n",
        "  arq_w.write('Toda vez que eu rodar esse código meu arquivo vai ser sobreescrito\\n')"
      ],
      "metadata": {
        "id": "uJ1RstbTSAPm"
      },
      "execution_count": 5,
      "outputs": []
    },
    {
      "cell_type": "code",
      "source": [
        "with open('teste_escrita_a.txt', 'a') as arq_a:\n",
        "  arq_a.write('Essa é a primeira linha\\n')"
      ],
      "metadata": {
        "id": "ry6sGLiVTfOe"
      },
      "execution_count": 10,
      "outputs": []
    },
    {
      "cell_type": "code",
      "source": [
        "with open('teste_escrita_a.txt', 'a') as arq_a:\n",
        "  arq_a.write('Essa é a segunda linha\\n')"
      ],
      "metadata": {
        "id": "ivrcFIR-UH5H"
      },
      "execution_count": 11,
      "outputs": []
    },
    {
      "cell_type": "code",
      "source": [
        "lista_frutas = ['banana', 'ameixa', 'laranja', 'abacaxi', 'melancia', 'bergamota']\n",
        "\n",
        "with open('frutas.txt', 'w') as frutas:\n",
        "  for fruta in lista_frutas:\n",
        "    frutas.write(fruta + '\\n')"
      ],
      "metadata": {
        "id": "MeIbbCWaU1_z"
      },
      "execution_count": 17,
      "outputs": []
    },
    {
      "cell_type": "markdown",
      "source": [
        "## Arquivos JSON"
      ],
      "metadata": {
        "id": "qK1hUFjnWzYt"
      }
    },
    {
      "cell_type": "markdown",
      "source": [
        "### Lendo Arquivos JSON"
      ],
      "metadata": {
        "id": "PEPE5qtWYLMc"
      }
    },
    {
      "cell_type": "code",
      "source": [
        "import json"
      ],
      "metadata": {
        "id": "nqgQNJzSW3cm"
      },
      "execution_count": 18,
      "outputs": []
    },
    {
      "cell_type": "code",
      "source": [
        "with open('livro.json', 'r') as arquivo:\n",
        "  # Agora precisamos das informações que importamos com o import json\n",
        "  livro = json.load(arquivo)"
      ],
      "metadata": {
        "id": "SpAnLdI7iZ6-"
      },
      "execution_count": 19,
      "outputs": []
    },
    {
      "cell_type": "code",
      "source": [
        "print(livro)"
      ],
      "metadata": {
        "colab": {
          "base_uri": "https://localhost:8080/"
        },
        "id": "mTPhCbCsiw5U",
        "outputId": "521934af-e35a-4f6d-b335-24a020f41887"
      },
      "execution_count": 21,
      "outputs": [
        {
          "output_type": "stream",
          "name": "stdout",
          "text": [
            "{'titulo': 'Dom Casmurro', 'autor': 'Machado de Assis', 'ano': 1899}\n"
          ]
        }
      ]
    },
    {
      "cell_type": "code",
      "source": [
        "livro['titulo']"
      ],
      "metadata": {
        "colab": {
          "base_uri": "https://localhost:8080/",
          "height": 35
        },
        "id": "NH3rsB-jjB8u",
        "outputId": "3e282a88-d917-485b-bf9e-ace6d5c55c15"
      },
      "execution_count": 22,
      "outputs": [
        {
          "output_type": "execute_result",
          "data": {
            "text/plain": [
              "'Dom Casmurro'"
            ],
            "application/vnd.google.colaboratory.intrinsic+json": {
              "type": "string"
            }
          },
          "metadata": {},
          "execution_count": 22
        }
      ]
    },
    {
      "cell_type": "code",
      "source": [
        "with open('produtos.json', 'r') as arquivo_prod:\n",
        "  produtos = json.load(arquivo_prod)\n",
        "print(produtos)"
      ],
      "metadata": {
        "colab": {
          "base_uri": "https://localhost:8080/"
        },
        "id": "GY8RKoRXjDxc",
        "outputId": "fbadf3bb-5168-44d6-a4be-df7ebdcce810"
      },
      "execution_count": 25,
      "outputs": [
        {
          "output_type": "stream",
          "name": "stdout",
          "text": [
            "[{'nome': 'cadeira', 'preco': '200'}, {'nome': 'mesa', 'preco': '300'}, {'nome': 'relogio', 'preco': '40'}]\n"
          ]
        }
      ]
    },
    {
      "cell_type": "code",
      "source": [
        "# Para percorrer um a um\n",
        "for produto in produtos:\n",
        "  print(produto)"
      ],
      "metadata": {
        "colab": {
          "base_uri": "https://localhost:8080/"
        },
        "id": "hj2j9AjajqVk",
        "outputId": "2c838cd0-0195-48dc-9199-4f7b9e7410ff"
      },
      "execution_count": 27,
      "outputs": [
        {
          "output_type": "stream",
          "name": "stdout",
          "text": [
            "{'nome': 'cadeira', 'preco': '200'}\n",
            "{'nome': 'mesa', 'preco': '300'}\n",
            "{'nome': 'relogio', 'preco': '40'}\n"
          ]
        }
      ]
    },
    {
      "cell_type": "code",
      "source": [
        "len(produtos)"
      ],
      "metadata": {
        "colab": {
          "base_uri": "https://localhost:8080/"
        },
        "id": "-B14s2b9j9rM",
        "outputId": "c81e092f-07bd-49fa-8f85-8c59d44d926b"
      },
      "execution_count": 28,
      "outputs": [
        {
          "output_type": "execute_result",
          "data": {
            "text/plain": [
              "3"
            ]
          },
          "metadata": {},
          "execution_count": 28
        }
      ]
    },
    {
      "cell_type": "code",
      "source": [
        "produtos[0]"
      ],
      "metadata": {
        "colab": {
          "base_uri": "https://localhost:8080/"
        },
        "id": "Xaz1ky6Pj_-E",
        "outputId": "4001ca7f-14fc-4d07-ad0e-cae5c1145c31"
      },
      "execution_count": 30,
      "outputs": [
        {
          "output_type": "execute_result",
          "data": {
            "text/plain": [
              "{'nome': 'cadeira', 'preco': '200'}"
            ]
          },
          "metadata": {},
          "execution_count": 30
        }
      ]
    },
    {
      "cell_type": "code",
      "source": [
        "produtos[0] ['nome']"
      ],
      "metadata": {
        "colab": {
          "base_uri": "https://localhost:8080/",
          "height": 35
        },
        "id": "a6ppxIpXkERz",
        "outputId": "13ff2f1c-8e91-4dd2-f980-5bc9e9c1b482"
      },
      "execution_count": 33,
      "outputs": [
        {
          "output_type": "execute_result",
          "data": {
            "text/plain": [
              "'cadeira'"
            ],
            "application/vnd.google.colaboratory.intrinsic+json": {
              "type": "string"
            }
          },
          "metadata": {},
          "execution_count": 33
        }
      ]
    },
    {
      "cell_type": "markdown",
      "source": [
        "### Escrevendo em arquivos JSON"
      ],
      "metadata": {
        "id": "USSBfZ90kTDe"
      }
    },
    {
      "cell_type": "code",
      "source": [
        "import json\n",
        "\n",
        "\"\"\" Para escrever é a mesma lógica, usando w ou a \"\"\""
      ],
      "metadata": {
        "id": "kQZt2eOEkSFd"
      },
      "execution_count": 34,
      "outputs": []
    },
    {
      "cell_type": "code",
      "source": [
        "dados = {\n",
        "    'nome' : 'Vini',\n",
        "    'idade' : 32,\n",
        "    'cidade' : 'Vera Cruz'\n",
        "}"
      ],
      "metadata": {
        "id": "F5X6AHeFkrcg"
      },
      "execution_count": 35,
      "outputs": []
    },
    {
      "cell_type": "code",
      "source": [
        "with open('dados.json', 'w') as arquivo:\n",
        "  json.dump(dados, arquivo) # colocando dados dentro do arquivo"
      ],
      "metadata": {
        "id": "v6IXcl1nk_4H"
      },
      "execution_count": 36,
      "outputs": []
    },
    {
      "cell_type": "code",
      "source": [
        "dados2 = {\n",
        "    'nome' : 'Alice',\n",
        "    'idade' : 33,\n",
        "    'cidade' : 'Vera Cruz'\n",
        "}"
      ],
      "metadata": {
        "id": "TOUSBZmhlUw9"
      },
      "execution_count": 37,
      "outputs": []
    },
    {
      "cell_type": "code",
      "source": [
        "lista_dados = [dados, dados2]"
      ],
      "metadata": {
        "id": "Nepes07zlyUF"
      },
      "execution_count": 38,
      "outputs": []
    },
    {
      "cell_type": "code",
      "source": [
        "with open('dados.json', 'w') as arquivo:\n",
        "  json.dump(lista_dados, arquivo)"
      ],
      "metadata": {
        "id": "LwgpL93unhsq"
      },
      "execution_count": 40,
      "outputs": []
    }
  ]
}