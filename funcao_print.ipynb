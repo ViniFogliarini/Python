{
  "nbformat": 4,
  "nbformat_minor": 0,
  "metadata": {
    "colab": {
      "provenance": [],
      "authorship_tag": "ABX9TyNpbiBjO7z2SCE4aNbpZaaA",
      "include_colab_link": true
    },
    "kernelspec": {
      "name": "python3",
      "display_name": "Python 3"
    },
    "language_info": {
      "name": "python"
    }
  },
  "cells": [
    {
      "cell_type": "markdown",
      "metadata": {
        "id": "view-in-github",
        "colab_type": "text"
      },
      "source": [
        "<a href=\"https://colab.research.google.com/github/ViniFogliarini/Python/blob/main/funcao_print.ipynb\" target=\"_parent\"><img src=\"https://colab.research.google.com/assets/colab-badge.svg\" alt=\"Open In Colab\"/></a>"
      ]
    },
    {
      "cell_type": "code",
      "execution_count": null,
      "metadata": {
        "colab": {
          "base_uri": "https://localhost:8080/"
        },
        "id": "G_qa-zMLZaXj",
        "outputId": "afad257f-baa8-4bcd-c0bf-8c39c32b0837"
      },
      "outputs": [
        {
          "output_type": "stream",
          "name": "stdout",
          "text": [
            "Meu nome é Maria e tenho 25 anos.\n"
          ]
        }
      ],
      "source": [
        "# F-STRING Para usar F-Strings, coloque um f antes das aspas.\n",
        "\n",
        "nome = \"Maria\"\n",
        "idade = 25\n",
        "\n",
        "print(f\"Meu nome é {nome} e tenho {idade} anos.\") # entre {} vai a variavel\n"
      ]
    },
    {
      "cell_type": "code",
      "source": [
        "# FORMATAÇÃO DE NUMEROS | Podemos formatar números para ter casas decimais específicas.\n",
        "\n",
        "pi = 3.141592653\n",
        "\n",
        "print(f\"O valor de pi é {pi : .2f}\") #2 é o número de casas decimais e f é formato flout (inteiro = d)"
      ],
      "metadata": {
        "colab": {
          "base_uri": "https://localhost:8080/"
        },
        "id": "2pRfetlxewqk",
        "outputId": "878ccee5-487c-4ea3-8149-97e03f479a4d"
      },
      "execution_count": null,
      "outputs": [
        {
          "output_type": "stream",
          "name": "stdout",
          "text": [
            "O valor de pi é  3.14\n"
          ]
        }
      ]
    },
    {
      "cell_type": "code",
      "source": [
        "# FORMATAÇÃO DE VALORES MONETÁRIOS | Para formatar valores monetários, use vírgulas para milhares e pontos para casas decimais.\n",
        "\n",
        "valor = 1243.5678\n",
        "print(f\"O valor é R${valor:,.2f}\") #, para milhares e . para casa decimais"
      ],
      "metadata": {
        "colab": {
          "base_uri": "https://localhost:8080/"
        },
        "id": "VdRchMTHfeVp",
        "outputId": "f0d20bf2-6ef6-4001-8f5c-4149103d175f"
      },
      "execution_count": null,
      "outputs": [
        {
          "output_type": "stream",
          "name": "stdout",
          "text": [
            "O valor é R$1,243.57\n"
          ]
        }
      ]
    }
  ]
}