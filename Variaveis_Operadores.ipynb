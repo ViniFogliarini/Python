{
  "nbformat": 4,
  "nbformat_minor": 0,
  "metadata": {
    "colab": {
      "provenance": [],
      "authorship_tag": "ABX9TyNjsoX2tv4PY1TSlkJgBSRV",
      "include_colab_link": true
    },
    "kernelspec": {
      "name": "python3",
      "display_name": "Python 3"
    },
    "language_info": {
      "name": "python"
    }
  },
  "cells": [
    {
      "cell_type": "markdown",
      "metadata": {
        "id": "view-in-github",
        "colab_type": "text"
      },
      "source": [
        "<a href=\"https://colab.research.google.com/github/ViniFogliarini/Python/blob/main/Variaveis_Operadores.ipynb\" target=\"_parent\"><img src=\"https://colab.research.google.com/assets/colab-badge.svg\" alt=\"Open In Colab\"/></a>"
      ]
    },
    {
      "cell_type": "code",
      "execution_count": null,
      "metadata": {
        "id": "hF0uBUnOiq27"
      },
      "outputs": [],
      "source": [
        "\"\"\"\n",
        "Sempre é escrito da forma variavel = valor\n",
        "O nome precisa começar com letra ou _\n",
        "Não usar espaço, usar _ para separar palavras\n",
        "Python separa maiusculo de minusculo\n",
        "\"\"\"\n",
        "nome = \"Vinicius\"\n",
        "idade = 32\n",
        "cidade_moro = \"Vera Cruz - RS\"\n"
      ]
    },
    {
      "cell_type": "code",
      "source": [
        "print(f\"Meu nome é {nome}\") #para juntar texto + variável fazer desta forma, f e depois a varivavel entre chaves."
      ],
      "metadata": {
        "colab": {
          "base_uri": "https://localhost:8080/"
        },
        "id": "g-l4iUodqthu",
        "outputId": "f60f0173-a865-4d25-e467-41e558594e3f"
      },
      "execution_count": null,
      "outputs": [
        {
          "output_type": "stream",
          "name": "stdout",
          "text": [
            "Meu nome é Vinicius\n"
          ]
        }
      ]
    },
    {
      "cell_type": "code",
      "source": [
        "#TIPOS DE DADOS | VARIAVEIS\n",
        "\n",
        "#FLOAT\n",
        "altura = 1.65 #precisa ser ponto, padrão americano\n",
        "\n",
        "print(altura)\n",
        "\n",
        "#BOOLEANO | TRUE OR FALSE | 0 OR 1\n",
        "vai_chover = True\n",
        "tenho_guarda_chuva = False\n",
        "\n",
        "print(vai_chover)\n",
        "\n",
        "#STRINGS\n",
        "nome = \"Vinicius\"\n",
        "\n",
        "#INTEIROS\n",
        "idade = 32"
      ],
      "metadata": {
        "colab": {
          "base_uri": "https://localhost:8080/"
        },
        "id": "MP8rxZdks7o3",
        "outputId": "a9829f15-fbf6-4996-a651-c0642a431e87"
      },
      "execution_count": null,
      "outputs": [
        {
          "output_type": "stream",
          "name": "stdout",
          "text": [
            "1.65\n",
            "True\n"
          ]
        }
      ]
    },
    {
      "cell_type": "code",
      "source": [
        "#OPERADORES ARITMETICOS - tem e-book\n",
        "\n",
        "numero = 10\n",
        "\n",
        "resultado = 20 + 10\n",
        "print(resultado)\n",
        "\n",
        "resultado_2 = idade + 10 # com variaveis\n",
        "print(resultado_2)\n",
        "\n",
        "resultado_3 = idade + numero\n",
        "print(resultado_3)"
      ],
      "metadata": {
        "colab": {
          "base_uri": "https://localhost:8080/"
        },
        "id": "jBtrerGkuphu",
        "outputId": "05b858e3-d007-489e-ace4-a747b6832b70"
      },
      "execution_count": null,
      "outputs": [
        {
          "output_type": "stream",
          "name": "stdout",
          "text": [
            "30\n",
            "42\n",
            "42\n"
          ]
        }
      ]
    },
    {
      "cell_type": "code",
      "source": [
        "# EXERCICIO AREA DO RETANGULO\n",
        "\n",
        "\"\"\"\n",
        "A largura é 5\n",
        "A altura é 3\n",
        "\"\"\"\n",
        "\n",
        "largura = 5\n",
        "altura = 3\n",
        "formula_retangulo = largura * altura\n",
        "perimetro = 2 * (largura + altura)\n",
        "\n",
        "print(f\"A área do retângulo é {formula_retangulo}\")\n",
        "print(f\"O perimetro do retângulo é {perimetro}\")"
      ],
      "metadata": {
        "colab": {
          "base_uri": "https://localhost:8080/"
        },
        "id": "4qICBe0GxmTp",
        "outputId": "c6118e80-3029-487e-f811-022750b17bdb"
      },
      "execution_count": null,
      "outputs": [
        {
          "output_type": "stream",
          "name": "stdout",
          "text": [
            "A área do retângulo é 15\n",
            "O perimetro do retângulo é 16\n"
          ]
        }
      ]
    },
    {
      "cell_type": "code",
      "metadata": {
        "colab": {
          "base_uri": "https://localhost:8080/"
        },
        "id": "2b3aa742",
        "outputId": "7d237368-861f-4616-8cee-579bd4998103"
      },
      "source": [
        "# OPERADORES RELACIONAIS | PARA COMPARAR\n",
        "\n",
        "# == (igual a)\n",
        "print(10 == 10) # Exemplo: 10 é igual a 10? (Resultado: True)\n",
        "print(10 == 5)  # Exemplo: 10 é igual a 5? (Resultado: False)\n",
        "\n",
        "# != (diferente de)\n",
        "print(10 != 5)  # Exemplo: 10 é diferente de 5? (Resultado: True)\n",
        "print(10 != 10) # Exemplo: 10 é diferente de 10? (Resultado: False)\n",
        "\n",
        "# > (maior que)\n",
        "print(10 > 5)   # Exemplo: 10 é maior que 5? (Resultado: True)\n",
        "print(5 > 10)   # Exemplo: 5 é maior que 10? (Resultado: False)\n",
        "\n",
        "# < (menor que)\n",
        "print(5 < 10)   # Exemplo: 5 é menor que 10? (Resultado: True)\n",
        "print(10 < 5)   # Exemplo: 10 é menor que 5? (Resultado: False)\n",
        "\n",
        "# >= (maior ou igual a)\n",
        "print(10 >= 10) # Exemplo: 10 é maior ou igual a 10? (Resultado: True)\n",
        "print(10 >= 5)  # Exemplo: 10 é maior ou igual a 5? (Resultado: True)\n",
        "print(5 >= 10)  # Exemplo: 5 é maior ou igual a 10? (Resultado: False)\n",
        "\n",
        "# <= (menor ou igual a)\n",
        "print(5 <= 10)  # Exemplo: 5 é menor ou igual a 10? (Resultado: True)\n",
        "print(10 <= 10) # Exemplo: 10 é menor ou igual a 10? (Resultado: True)\n",
        "print(10 <= 5)  # Exemplo: 10 é menor ou igual a 5? (Resultado: False)"
      ],
      "execution_count": null,
      "outputs": [
        {
          "output_type": "stream",
          "name": "stdout",
          "text": [
            "True\n",
            "False\n",
            "True\n",
            "False\n",
            "True\n",
            "False\n",
            "True\n",
            "False\n",
            "True\n",
            "True\n",
            "False\n",
            "True\n",
            "True\n",
            "False\n"
          ]
        }
      ]
    },
    {
      "cell_type": "code",
      "source": [
        "# OPERADORES LOGICOS\n",
        "\"\"\"\n",
        "E (AND): Retorna True apenas se ambos os valores forem True.\n",
        "OU (OR): Retorna True se pelo menos um dos valores for True.\n",
        "NÃO (NOT): Inverte o valor booleano.\n",
        "\"\"\"\n",
        "\n",
        "vai_chover = True\n",
        "tenho_guarda_chuva = False\n",
        "nao_precisa_guarda_chuva = not vai_chover # inverte o valor lógico\n",
        "\n",
        "sair_de_casa = vai_chover and tenho_guarda_chuva\n",
        "print(sair_de_casa)\n",
        "\n",
        "print(nao_precisa_guarda_chuva)\n",
        "\n",
        "# EXEMPLO DO ALUNO\n",
        "aluno_presente = True\n",
        "fez_trabalho = True\n",
        "recebe_ponto = aluno_presente or fez_trabalho\n",
        "print(f\"Exemplo do aluno: {recebe_ponto}\")\n",
        "\n",
        "# EXEMPLO ENTRAR NO CASSINO\n",
        "idade_cassino = 20\n",
        "aceite_termo = True\n",
        "pode_jogar = idade_cassino >= 18 and aceite_termo\n",
        "\n",
        "print(f\"Exemplo do cassino: {pode_jogar}\")"
      ],
      "metadata": {
        "colab": {
          "base_uri": "https://localhost:8080/"
        },
        "id": "sA7YmgdXORu5",
        "outputId": "2a02489d-5e9c-4f18-eacc-233d0cbf6251"
      },
      "execution_count": null,
      "outputs": [
        {
          "output_type": "stream",
          "name": "stdout",
          "text": [
            "False\n",
            "False\n",
            "Exemplo do aluno: True\n",
            "Exemplo do cassino: True\n"
          ]
        }
      ]
    }
  ]
}