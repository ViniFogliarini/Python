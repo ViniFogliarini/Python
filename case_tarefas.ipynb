{
  "nbformat": 4,
  "nbformat_minor": 0,
  "metadata": {
    "colab": {
      "provenance": [],
      "authorship_tag": "ABX9TyN94vmTEfKZWfcvARSSQT67",
      "include_colab_link": true
    },
    "kernelspec": {
      "name": "python3",
      "display_name": "Python 3"
    },
    "language_info": {
      "name": "python"
    }
  },
  "cells": [
    {
      "cell_type": "markdown",
      "metadata": {
        "id": "view-in-github",
        "colab_type": "text"
      },
      "source": [
        "<a href=\"https://colab.research.google.com/github/ViniFogliarini/Python/blob/main/case_tarefas.ipynb\" target=\"_parent\"><img src=\"https://colab.research.google.com/assets/colab-badge.svg\" alt=\"Open In Colab\"/></a>"
      ]
    },
    {
      "cell_type": "markdown",
      "source": [
        "## Etapa 1 - Step Tipos de Dados e Operadores"
      ],
      "metadata": {
        "id": "0TsHx0p7Knjt"
      }
    },
    {
      "cell_type": "code",
      "execution_count": null,
      "metadata": {
        "id": "KDNfYJqXcvyq"
      },
      "outputs": [],
      "source": [
        "tarefas = input('Adicione a Tarefa: ') # para adicionar tarefa\n",
        "\n",
        "print('Tarefa Adicionada.')\n",
        "print(f'Tarefas: {tarefas}')"
      ]
    },
    {
      "cell_type": "markdown",
      "source": [
        "##Etapa 2 - Step Estruturas de Controle"
      ],
      "metadata": {
        "id": "_nph3XfpKvAN"
      }
    },
    {
      "cell_type": "code",
      "source": [
        "while True:\n",
        "  opcao = input('Adicione uma a tarefa ou digite sair: ')\n",
        "  if opcao.lower() == \"sair\": #.lower() serve para deixar todas as letras em minusculo\n",
        "    break\n",
        "  else:\n",
        "    tarefa = opcao\n",
        "    print(f\"Tarefa Adicionada: {tarefa}\")\n",
        "\n",
        "print(f\"A última tarefa adicionada foi: {tarefa}\")"
      ],
      "metadata": {
        "id": "maxmgTk9KyLE"
      },
      "execution_count": null,
      "outputs": []
    },
    {
      "cell_type": "markdown",
      "source": [
        "## Etapa 3.1 - Estrutura de Dados"
      ],
      "metadata": {
        "id": "o542_hQHkkqW"
      }
    },
    {
      "cell_type": "code",
      "source": [
        "lista_tarefas = []\n",
        "\n",
        "while True:\n",
        "  print(\"MENU DE OPÇÕES\")\n",
        "  print(\"1. Adicionar Tarefa\")\n",
        "  print(\"2. Listar Tarefas\")\n",
        "  print(\"3. Remover Tarefa\")\n",
        "  print(\"4. Sair\")\n",
        "  opcao = int(input('Escolha Uma Opção: '))\n",
        "\n",
        "  if opcao == 4:\n",
        "    print(\"Saindo...\")\n",
        "    break\n",
        "  elif opcao == 1:\n",
        "    opcao = input('Adicione Uma Tarefa: ')\n",
        "    lista_tarefas.append(opcao)\n",
        "    print(f'Tarefa Adicionada: {opcao}')\n",
        "  elif opcao == 2:\n",
        "      print(\"Lista de Tarefas:\")\n",
        "      for tarefa_atual in lista_tarefas:\n",
        "        print(f'- {tarefa_atual}')\n",
        "  elif opcao == 3:\n",
        "    remover_tarefa = input('Digite a Tarefa a Ser Removida: ')\n",
        "    if remover_tarefa in lista_tarefas:\n",
        "      lista_tarefas.remove(remover_tarefa)\n",
        "      print(f\"Tarefa Removida: {remover_tarefa}\")\n",
        "    else:\n",
        "      print(\"Tarefa Não Encontrada\")\n",
        "  else:\n",
        "    print('Opção Inválida')"
      ],
      "metadata": {
        "id": "5EfePn_bkq6b"
      },
      "execution_count": null,
      "outputs": []
    }
  ]
}