{
  "nbformat": 4,
  "nbformat_minor": 0,
  "metadata": {
    "colab": {
      "provenance": [],
      "authorship_tag": "ABX9TyNEjBTjhhvGVBA7fk4z31cg",
      "include_colab_link": true
    },
    "kernelspec": {
      "name": "python3",
      "display_name": "Python 3"
    },
    "language_info": {
      "name": "python"
    }
  },
  "cells": [
    {
      "cell_type": "markdown",
      "metadata": {
        "id": "view-in-github",
        "colab_type": "text"
      },
      "source": [
        "<a href=\"https://colab.research.google.com/github/ViniFogliarini/Python/blob/main/Listas.ipynb\" target=\"_parent\"><img src=\"https://colab.research.google.com/assets/colab-badge.svg\" alt=\"Open In Colab\"/></a>"
      ]
    },
    {
      "cell_type": "code",
      "execution_count": null,
      "metadata": {
        "id": "XgYKJOeTROxb"
      },
      "outputs": [],
      "source": [
        "# [] é lista\n",
        "\n",
        "minha_lista = [3, 6, 9]\n",
        "print(minha_lista)\n",
        "\n",
        "lista_variada = [0, 'abacaxi', 4, True]\n",
        "print(lista_variada)"
      ]
    },
    {
      "cell_type": "markdown",
      "source": [
        "##Acessar e Manipular Listas"
      ],
      "metadata": {
        "id": "TYY1JL86ScM_"
      }
    },
    {
      "cell_type": "code",
      "source": [
        "# Para acessar os elementos, colocar o numero deles dentro de []\n",
        "print(minha_lista[0])\n",
        "lista_variada[-1] #usando negativo é de tras para frente\n"
      ],
      "metadata": {
        "id": "C7cC_468SY0P"
      },
      "execution_count": null,
      "outputs": []
    },
    {
      "cell_type": "code",
      "source": [
        "nova_lista = [5, 4, 29, 1, -2]\n",
        "\n",
        "if nova_lista[2] % 2 == 0:\n",
        "  print('É par')\n",
        "else:\n",
        "  print('É ímpar')"
      ],
      "metadata": {
        "id": "dWA76Y1YTYcP"
      },
      "execution_count": null,
      "outputs": []
    },
    {
      "cell_type": "markdown",
      "source": [
        "##Modificando Listas"
      ],
      "metadata": {
        "id": "MFl41KFYLi8e"
      }
    },
    {
      "cell_type": "code",
      "source": [
        "lista_numeros = [1, 2, 3, 4]\n",
        "print(lista_numeros)"
      ],
      "metadata": {
        "id": "G1KBDKWOLnpr"
      },
      "execution_count": null,
      "outputs": []
    },
    {
      "cell_type": "code",
      "source": [
        "# APPEND - final\n",
        "lista_numeros.append(5) # o ponto é para adicionar uma função | o append() é para adicionar valor no final da lista\n",
        "\n",
        "lista_numeros.append(\"seis\")"
      ],
      "metadata": {
        "id": "5S77sUA6MNFe"
      },
      "execution_count": null,
      "outputs": []
    },
    {
      "cell_type": "code",
      "source": [
        "# INSERT - qualquer posição, colocar o indice depois o valor a ser adicionado\n",
        "lista_numeros.insert(0, 'zero')\n",
        "\n",
        "lista_numeros.insert(3, 'quarto elemento')"
      ],
      "metadata": {
        "id": "LDvJvAqVMlBv"
      },
      "execution_count": null,
      "outputs": []
    },
    {
      "cell_type": "code",
      "source": [
        "# REMOVE - remover\n",
        "lista_numeros.remove(1) # entre parenteses colocar o valor a ser removido como escrito na lista\n",
        "\n",
        "# POP - remove e retorna o último elemento da lista\n",
        "# CLEAR - limpa a lista, deixa vazia"
      ],
      "metadata": {
        "id": "TnN4E874Nnd2"
      },
      "execution_count": null,
      "outputs": []
    },
    {
      "cell_type": "code",
      "source": [
        "lista_2 = [10, 20, 30]\n",
        "lista_2[1] = 50 # atribuir novo valor ao indice da lista"
      ],
      "metadata": {
        "id": "IaAbijBAOcK3"
      },
      "execution_count": null,
      "outputs": []
    },
    {
      "cell_type": "markdown",
      "source": [
        "## EXERCÍCIOS"
      ],
      "metadata": {
        "id": "BMK_ypZRO6Lg"
      }
    },
    {
      "cell_type": "code",
      "source": [
        "lista_exercicio = [10, 20, 30, 40, 50]\n",
        "\n",
        "#Adicionar valor no final\n",
        "lista_exercicio.append(55)\n",
        "print(lista_exercicio)\n",
        "\n",
        "#Adicionar valor na segunda posição\n",
        "lista_exercicio.insert(1, 15)\n",
        "print(lista_exercicio)\n",
        "\n",
        "#Remover um valor\n",
        "lista_exercicio.remove(30)\n",
        "print(lista_exercicio)"
      ],
      "metadata": {
        "colab": {
          "base_uri": "https://localhost:8080/"
        },
        "id": "BhS5Jo0WO8AM",
        "outputId": "0b427fcf-1608-4a4c-d5ca-72e075c4bf00"
      },
      "execution_count": 8,
      "outputs": [
        {
          "output_type": "stream",
          "name": "stdout",
          "text": [
            "[10, 20, 30, 40, 50, 55]\n",
            "[10, 15, 20, 30, 40, 50, 55]\n",
            "[10, 15, 20, 40, 50, 55]\n"
          ]
        }
      ]
    },
    {
      "cell_type": "code",
      "source": [
        "itens = ['mesa', 'cadeira', 'armario']\n",
        "\n",
        "#Trocar cadeira por poltrona\n",
        "itens[1] = 'poltrona'\n",
        "print(itens)\n",
        "\n",
        "#Remover o ultimo elemento\n",
        "itens_removidos = itens.pop()\n",
        "print(itens)\n",
        "print(f'Itens removidos: {itens_removidos}')\n",
        "\n",
        "#Limpar lista\n",
        "itens.clear()\n",
        "print(itens)"
      ],
      "metadata": {
        "colab": {
          "base_uri": "https://localhost:8080/"
        },
        "id": "JwHoN9JBQJux",
        "outputId": "d6745e25-fd97-420b-bb77-83337b74843e"
      },
      "execution_count": 16,
      "outputs": [
        {
          "output_type": "stream",
          "name": "stdout",
          "text": [
            "['mesa', 'poltrona', 'armario']\n",
            "['mesa', 'poltrona']\n",
            "Itens removidos: armario\n",
            "[]\n"
          ]
        }
      ]
    },
    {
      "cell_type": "markdown",
      "source": [
        "## Métodos de Listas"
      ],
      "metadata": {
        "id": "RVXE8B2bRuN2"
      }
    },
    {
      "cell_type": "code",
      "source": [
        "# SLICING | cortar lista\n",
        "lista_slicing = [0, 1, 2, 3, 4, 5, 6, 7, 8, 9]\n",
        "lista_slicing_cortado = lista_slicing[1:5] # do segundo elemento até o quinto\n",
        "\n",
        "# LEN - saber o tamanho\n",
        "len(lista_slicing)\n",
        "\n",
        "#COUNT  - número de elementos\n",
        "lista_slicing_cortado.count(2) #entre parentes fica o valor a ser contato\n",
        "\n",
        "#RESERVE - reverte\n",
        "lista_slicing.reverse()"
      ],
      "metadata": {
        "id": "9yH1E4BzRxFC"
      },
      "execution_count": null,
      "outputs": []
    },
    {
      "cell_type": "code",
      "source": [
        "# Usando o RANGE em listas\n",
        "\n",
        "for i in lista_slicing:\n",
        "  print(i)"
      ],
      "metadata": {
        "id": "vJLf-1S0hmVq"
      },
      "execution_count": null,
      "outputs": []
    },
    {
      "cell_type": "code",
      "source": [
        "numeros = [2, 6, 9, 10, 2, 5]\n",
        "soma = 0\n",
        "\n",
        "for n in numeros:\n",
        "  soma += n\n",
        "\n",
        "print(soma)"
      ],
      "metadata": {
        "id": "V23b8rICiFun"
      },
      "execution_count": null,
      "outputs": []
    },
    {
      "cell_type": "code",
      "source": [
        "lista_frutas = ['banana', 'abacaxi', 'manga', 'banana', 'ameixa', 'banana']\n",
        "lista_frutas.remove('banana') #remove só a primeira, colocar no While\n",
        "\n",
        "while 'banana' in lista_frutas:\n",
        "  lista_frutas.remove('banana')\n",
        "\n",
        "print(lista_frutas)"
      ],
      "metadata": {
        "id": "_o0B5lM4jB_g"
      },
      "execution_count": null,
      "outputs": []
    }
  ]
}