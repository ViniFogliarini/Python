{
  "nbformat": 4,
  "nbformat_minor": 0,
  "metadata": {
    "colab": {
      "provenance": [],
      "authorship_tag": "ABX9TyMNEVRgBF515tmN/HsKrRBH",
      "include_colab_link": true
    },
    "kernelspec": {
      "name": "python3",
      "display_name": "Python 3"
    },
    "language_info": {
      "name": "python"
    }
  },
  "cells": [
    {
      "cell_type": "markdown",
      "metadata": {
        "id": "view-in-github",
        "colab_type": "text"
      },
      "source": [
        "<a href=\"https://colab.research.google.com/github/ViniFogliarini/Python/blob/main/Condicionais_Repeticao.ipynb\" target=\"_parent\"><img src=\"https://colab.research.google.com/assets/colab-badge.svg\" alt=\"Open In Colab\"/></a>"
      ]
    },
    {
      "cell_type": "markdown",
      "source": [
        "ESTRUTURAS CONDICIONAIS"
      ],
      "metadata": {
        "id": "4NkmTrBWj5zC"
      }
    },
    {
      "cell_type": "code",
      "execution_count": null,
      "metadata": {
        "collapsed": true,
        "id": "Sg7C_CeHjzIP"
      },
      "outputs": [],
      "source": [
        "x = 5\n",
        "\n",
        "if x == 5:\n",
        "  print(\"x é igual a 5\")\n",
        "else:\n",
        "  print(\"x não é igual a 5\")"
      ]
    },
    {
      "cell_type": "code",
      "source": [
        "a = 8\n",
        "resto = a % 2\n",
        "\n",
        "if resto == 0:\n",
        "  print(\"a é par\")\n",
        "else:\n",
        "  print(\"a é ímpar\")"
      ],
      "metadata": {
        "id": "b_VkcUJDkYHC"
      },
      "execution_count": null,
      "outputs": []
    },
    {
      "cell_type": "code",
      "source": [
        "b = 7\n",
        "\n",
        "if b > 10:\n",
        "  print(\"b é maior que 10\")\n",
        "elif b > 3:\n",
        "  print(\"b é maior do que 3 e menor que 10\")\n",
        "else:\n",
        "    print(\"b é menor ou igual a 3\")"
      ],
      "metadata": {
        "id": "tO28XFWrk82p"
      },
      "execution_count": null,
      "outputs": []
    },
    {
      "cell_type": "code",
      "source": [
        "# MENU DE OPÇÕES\n",
        "\n",
        "saldo = 123456\n",
        "\n",
        "print(\"Menu\")\n",
        "print(\"1 - Ver Saldo\")\n",
        "print(\"2 - Realizar Depósito\")\n",
        "print(\"3 - Sair\")\n",
        "\n",
        "opcao = int(input(\"Digite uma opção do menus: \"))\n",
        "\n",
        "if opcao == 1:\n",
        "  print(f'Seu Saldo é {saldo}')\n",
        "elif opcao == 2:\n",
        "  print(\"Depósito Realizado\")\n",
        "elif opcao == 3:\n",
        "  print(\"Saindo...\")\n",
        "else:\n",
        "  print(\"Opção Inválida\")"
      ],
      "metadata": {
        "id": "YGwDUCN0ppYt"
      },
      "execution_count": null,
      "outputs": []
    },
    {
      "cell_type": "markdown",
      "source": [
        "ESTRUTURAS DE REPETIÇÃO"
      ],
      "metadata": {
        "id": "yCeaufW_snJq"
      }
    },
    {
      "cell_type": "code",
      "source": [
        "# FOR | RANGE\n",
        "\n",
        "#for elemento in sequecia:\n",
        "\n",
        "for elemento in range(10): # range = sequencia | (10) variar até 10\n",
        "  print(elemento)\n"
      ],
      "metadata": {
        "id": "J1rovyRpr4CJ"
      },
      "execution_count": null,
      "outputs": []
    },
    {
      "cell_type": "code",
      "source": [
        "for elemento in range(1, 10): # começando de 1, lembrando que o 10 é exclusivo\n",
        "  print(elemento)\n"
      ],
      "metadata": {
        "id": "Il0gSIw_2-pt"
      },
      "execution_count": null,
      "outputs": []
    },
    {
      "cell_type": "code",
      "source": [
        "for elemento in range(0, 11, 2): # step é 2, pulando de 2 em 2\n",
        "  print(elemento)\n"
      ],
      "metadata": {
        "id": "WCTIiF0J3JXm"
      },
      "execution_count": null,
      "outputs": []
    },
    {
      "cell_type": "code",
      "source": [
        "soma = 0\n",
        "\n",
        "for numero in range(21):\n",
        "  soma = soma + numero\n",
        "  print(f\"Soma parcial: {soma}\")\n",
        "\n",
        "print(f\"Resultado final: {soma}\")"
      ],
      "metadata": {
        "id": "M1FSMKur3cf1"
      },
      "execution_count": null,
      "outputs": []
    },
    {
      "cell_type": "code",
      "source": [
        "n = 5\n",
        "fatorial = 1\n",
        "\n",
        "for i in range(1, n+1):\n",
        "  fatorial = fatorial * i\n",
        "\n",
        "print(f\"O fatorial de {n} é {fatorial}\")"
      ],
      "metadata": {
        "id": "tGxBdWV43oUJ"
      },
      "execution_count": null,
      "outputs": []
    },
    {
      "cell_type": "code",
      "source": [
        "# WHILE - ENQUANTO | CONTROLE DE FLUO\n",
        "\n",
        "contador = 5\n",
        "\n",
        "while contador >= 0:\n",
        "  print(contador)\n",
        "  contador -= 1 # contador = contador - 1\n",
        "\n",
        "print(\"Fim!\")"
      ],
      "metadata": {
        "id": "cQFP5WA05tbr"
      },
      "execution_count": null,
      "outputs": []
    },
    {
      "cell_type": "code",
      "source": [
        "contador = 11\n",
        "\n",
        "while contador > 0:\n",
        "  print(contador)\n",
        "  contador -= 1"
      ],
      "metadata": {
        "id": "j9O_oKSb7VKV"
      },
      "execution_count": null,
      "outputs": []
    },
    {
      "cell_type": "code",
      "source": [
        "contador = 11\n",
        "\n",
        "while contador > 0:\n",
        "  if contador % 3 ==0: # resto de 3 | multiplo de 3\n",
        "    break #quebra o fluxo\n",
        "  print(contador)\n",
        "  contador -= 1"
      ],
      "metadata": {
        "id": "_seMKes661ru"
      },
      "execution_count": null,
      "outputs": []
    },
    {
      "cell_type": "code",
      "source": [
        "contador = 11\n",
        "\n",
        "while contador > 0:\n",
        "  if contador % 3 ==0: # resto de 3 | multiplo de 3\n",
        "    contador -= 1\n",
        "    continue #quebra o fluxo, mas continua | não aparece o 9 no exemplo\n",
        "  print(contador)\n",
        "  contador -= 1"
      ],
      "metadata": {
        "id": "6dmOWw9M7n0l"
      },
      "execution_count": null,
      "outputs": []
    },
    {
      "cell_type": "code",
      "source": [
        "soma = 0\n",
        "numero = 1\n",
        "\n",
        "while True:\n",
        "  soma += numero\n",
        "  if soma > 100:\n",
        "    break\n",
        "  numero +=1\n",
        "\n",
        "print(f\"Soma Final: {soma}\")"
      ],
      "metadata": {
        "id": "XdNIoF768dv6"
      },
      "execution_count": null,
      "outputs": []
    },
    {
      "cell_type": "markdown",
      "source": [
        "BOAS PRATICAS\n"
      ],
      "metadata": {
        "id": "MA62bkOeFRb3"
      }
    },
    {
      "cell_type": "code",
      "source": [
        "a = 1\n",
        "\n",
        "for i in range(30):\n",
        "  if i % 3 == 0: # se atender\n",
        "    print(i)\n",
        "    a += 1\n",
        "  else: # se não atender\n",
        "    a += 2\n",
        "\n",
        "print(f\"A: {a}\")"
      ],
      "metadata": {
        "id": "_gZKQ9NFFjlg"
      },
      "execution_count": null,
      "outputs": []
    },
    {
      "cell_type": "code",
      "source": [
        "# CUIDAR DO LOOP INFINITO NO WHILE\n",
        "\n",
        "contador = 8\n",
        "while contador > 0:\n",
        "  print(contador)\n",
        "  contador -= 1 # para terminar o laço"
      ],
      "metadata": {
        "id": "EIZ76WzvG-9E"
      },
      "execution_count": null,
      "outputs": []
    }
  ]
}