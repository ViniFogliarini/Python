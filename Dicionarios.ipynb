{
  "nbformat": 4,
  "nbformat_minor": 0,
  "metadata": {
    "colab": {
      "provenance": [],
      "authorship_tag": "ABX9TyPOoDQE4MK81pK+fkXJ1j24",
      "include_colab_link": true
    },
    "kernelspec": {
      "name": "python3",
      "display_name": "Python 3"
    },
    "language_info": {
      "name": "python"
    }
  },
  "cells": [
    {
      "cell_type": "markdown",
      "metadata": {
        "id": "view-in-github",
        "colab_type": "text"
      },
      "source": [
        "<a href=\"https://colab.research.google.com/github/ViniFogliarini/Python/blob/main/Dicionarios.ipynb\" target=\"_parent\"><img src=\"https://colab.research.google.com/assets/colab-badge.svg\" alt=\"Open In Colab\"/></a>"
      ]
    },
    {
      "cell_type": "code",
      "execution_count": null,
      "metadata": {
        "id": "dy_z0BimHpyJ"
      },
      "outputs": [],
      "source": [
        "# DICIONARIO | CHAVE E VALOR\n",
        "dici_vazio = {}\n",
        "\n",
        "dici_pessoa = {\n",
        "    'nome' : 'Vinicius',\n",
        "    'idade' : 32,\n",
        "    'cidade' : 'Vera Cruz',\n",
        "    'altura' : 1.65\n",
        "}"
      ]
    },
    {
      "cell_type": "code",
      "source": [
        "dici_pet = {\n",
        "    'animal' : 'Gato',\n",
        "    'idade' : 7,\n",
        "    'cor' : 'Marrom'\n",
        "}"
      ],
      "metadata": {
        "id": "Eys86pa9JkM4"
      },
      "execution_count": null,
      "outputs": []
    },
    {
      "cell_type": "code",
      "source": [
        "print(f'{dici_pessoa[\"nome\"]} tem um {dici_pet[\"animal\"]}')"
      ],
      "metadata": {
        "colab": {
          "base_uri": "https://localhost:8080/"
        },
        "id": "JRZdXGzrLdBY",
        "outputId": "a559c18f-b7ea-432c-cd60-d8c80ed9c96c"
      },
      "execution_count": null,
      "outputs": [
        {
          "output_type": "stream",
          "name": "stdout",
          "text": [
            "Vinicius tem um Gato\n"
          ]
        }
      ]
    },
    {
      "cell_type": "markdown",
      "source": [
        "##Manipulando Dicionario"
      ],
      "metadata": {
        "id": "GgQWDwh06FOL"
      }
    },
    {
      "cell_type": "code",
      "source": [
        "print(dici_pet[\"animal\"])\n",
        "print(dici_pet[\"cor\"])\n",
        "print(dici_pet[\"idade\"])\n",
        "\n",
        "# Modificar idade do pet\n",
        "dici_pet[\"idade\"] = 8\n",
        "print(dici_pet[\"idade\"])"
      ],
      "metadata": {
        "id": "qYx8oWl-6IGS"
      },
      "execution_count": null,
      "outputs": []
    },
    {
      "cell_type": "code",
      "source": [
        "# Adicionar outra caracteristica\n",
        "dici_pet['sexo'] = 'Macho'\n",
        "print(dici_pet)"
      ],
      "metadata": {
        "id": "q8Mal43Y7iUC"
      },
      "execution_count": null,
      "outputs": []
    },
    {
      "cell_type": "code",
      "source": [
        "# Remover elementos | DEL usada para dicionarios, deletar chave\n",
        "del dici_pet['cor']\n",
        "print(dici_pet)"
      ],
      "metadata": {
        "id": "hdW8M29s7ziH"
      },
      "execution_count": null,
      "outputs": []
    },
    {
      "cell_type": "code",
      "source": [
        "# Consultar se existe a chave\n",
        "tem_chave_cor = 'cor' in dici_pet\n",
        "print(tem_chave_cor)\n",
        "\n",
        "tem_chave_sexo = 'sexo' in dici_pet\n",
        "print(tem_chave_sexo)"
      ],
      "metadata": {
        "id": "TxPPu6eQ8C0c"
      },
      "execution_count": null,
      "outputs": []
    },
    {
      "cell_type": "code",
      "source": [
        "# Com condição\n",
        "if 'animal' in dici_pet:\n",
        "  print(dici_pet)"
      ],
      "metadata": {
        "id": "v7ks98CO8Yt6"
      },
      "execution_count": null,
      "outputs": []
    },
    {
      "cell_type": "code",
      "source": [
        "dici_produto = {\n",
        "    'nome' : 'cadeira',\n",
        "    'preço' : 200,\n",
        "    'estoque' : 15\n",
        "}\n",
        "\n",
        "faturamento_cadeira = 0\n",
        "\n",
        "while dici_produto['estoque'] >= 0:\n",
        "  print(f\"Venda Concluída. Estoque: {dici_produto['estoque']} unidades\")\n",
        "  faturamento_cadeira += dici_produto['preço']\n",
        "  print(f\"Valor faturado em {dici_produto['nome']} é R${faturamento_cadeira}\")\n",
        "  dici_produto['estoque'] -= 1\n",
        "\n"
      ],
      "metadata": {
        "id": "midkc_Yi8oYj"
      },
      "execution_count": null,
      "outputs": []
    }
  ]
}