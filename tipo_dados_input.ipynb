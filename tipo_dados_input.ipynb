{
  "nbformat": 4,
  "nbformat_minor": 0,
  "metadata": {
    "colab": {
      "provenance": [],
      "authorship_tag": "ABX9TyPjXYQq5fgp/Vq0P+meQKat",
      "include_colab_link": true
    },
    "kernelspec": {
      "name": "python3",
      "display_name": "Python 3"
    },
    "language_info": {
      "name": "python"
    }
  },
  "cells": [
    {
      "cell_type": "markdown",
      "metadata": {
        "id": "view-in-github",
        "colab_type": "text"
      },
      "source": [
        "<a href=\"https://colab.research.google.com/github/ViniFogliarini/Python/blob/main/tipo_dados_input.ipynb\" target=\"_parent\"><img src=\"https://colab.research.google.com/assets/colab-badge.svg\" alt=\"Open In Colab\"/></a>"
      ]
    },
    {
      "cell_type": "code",
      "execution_count": null,
      "metadata": {
        "id": "_9sZixcYS3Fg"
      },
      "outputs": [],
      "source": [
        "# CONVERSAO TIPO\n",
        "\n",
        "idade = \"32\"\n",
        "idade_int = int(idade)\n",
        "\n",
        "altura = \"1,65\"\n",
        "altura_float = float(altura)"
      ]
    },
    {
      "cell_type": "code",
      "source": [
        "# FUNCAO INPUT\n",
        "\n",
        "entrada = input(\"String: \") #assim fica em str, se for número, converter para int ou float\n",
        "\n",
        "entrada_int = int(input(\"Inteiro: \")) #assim fica em int\n",
        "\n",
        "entrada_float = float(input(\"Float: \")) #assim fica em float"
      ],
      "metadata": {
        "id": "HCqpJZ93V8o5"
      },
      "execution_count": null,
      "outputs": []
    }
  ]
}