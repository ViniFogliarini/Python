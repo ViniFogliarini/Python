{
  "nbformat": 4,
  "nbformat_minor": 0,
  "metadata": {
    "colab": {
      "provenance": [],
      "authorship_tag": "ABX9TyNMDuGCAy5nlevTpurO3T5b",
      "include_colab_link": true
    },
    "kernelspec": {
      "name": "python3",
      "display_name": "Python 3"
    },
    "language_info": {
      "name": "python"
    }
  },
  "cells": [
    {
      "cell_type": "markdown",
      "metadata": {
        "id": "view-in-github",
        "colab_type": "text"
      },
      "source": [
        "<a href=\"https://colab.research.google.com/github/ViniFogliarini/Python/blob/main/Tuplas.ipynb\" target=\"_parent\"><img src=\"https://colab.research.google.com/assets/colab-badge.svg\" alt=\"Open In Colab\"/></a>"
      ]
    },
    {
      "cell_type": "code",
      "execution_count": 2,
      "metadata": {
        "id": "Dfh6ODBLA4ld"
      },
      "outputs": [],
      "source": [
        "tupla_numeros = (1, 3, 5)\n",
        "tupla_variada = (1, \"Vini\", 3.14)"
      ]
    },
    {
      "cell_type": "code",
      "source": [
        "tupla_numeros[0] # para criar Tupla é parenteses, para acessar elementos é colchetes"
      ],
      "metadata": {
        "id": "I-LG66-xDLqI"
      },
      "execution_count": null,
      "outputs": []
    },
    {
      "cell_type": "markdown",
      "source": [
        "## Operações com Tuplas"
      ],
      "metadata": {
        "id": "iKqdleIfFNja"
      }
    },
    {
      "cell_type": "code",
      "source": [
        "t1 = (1, 2, 3, 4)\n",
        "t2 = (9, 0)\n",
        "t3 = t2 * 10\n",
        "\n",
        "print(t1+t2) # a soma juntão, criando uma terceira tupla\n",
        "print(t2 * 2) # multiplicação é quantas vezes repete\n",
        "print(t1[1:3]) # slicing\n",
        "len(t1) # medir tamanho\n",
        "print(t3.count(0)) # contar quantas vezes aparece o 0 na tupla"
      ],
      "metadata": {
        "id": "egmCurp6E7xZ"
      },
      "execution_count": null,
      "outputs": []
    },
    {
      "cell_type": "code",
      "source": [
        "# INDEX\n",
        "\n",
        "t3.index(0) # em qual indice aparece o valor entre parenteses\n",
        "t1.index(3)"
      ],
      "metadata": {
        "id": "CUqCiaDiGMci"
      },
      "execution_count": null,
      "outputs": []
    },
    {
      "cell_type": "code",
      "source": [
        "t4 = (t1 + t2) * 2\n",
        "print(t4)"
      ],
      "metadata": {
        "id": "w9WMCjLHGlRC"
      },
      "execution_count": null,
      "outputs": []
    }
  ]
}