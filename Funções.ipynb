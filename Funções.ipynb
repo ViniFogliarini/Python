{
  "nbformat": 4,
  "nbformat_minor": 0,
  "metadata": {
    "colab": {
      "provenance": [],
      "authorship_tag": "ABX9TyPQYkR+d8EuEDPyj5JutiDR",
      "include_colab_link": true
    },
    "kernelspec": {
      "name": "python3",
      "display_name": "Python 3"
    },
    "language_info": {
      "name": "python"
    }
  },
  "cells": [
    {
      "cell_type": "markdown",
      "metadata": {
        "id": "view-in-github",
        "colab_type": "text"
      },
      "source": [
        "<a href=\"https://colab.research.google.com/github/ViniFogliarini/Python/blob/main/Fun%C3%A7%C3%B5es.ipynb\" target=\"_parent\"><img src=\"https://colab.research.google.com/assets/colab-badge.svg\" alt=\"Open In Colab\"/></a>"
      ]
    },
    {
      "cell_type": "markdown",
      "source": [
        "## Base"
      ],
      "metadata": {
        "id": "-pFRM2e6P5uP"
      }
    },
    {
      "cell_type": "code",
      "execution_count": null,
      "metadata": {
        "colab": {
          "base_uri": "https://localhost:8080/"
        },
        "id": "pxm6Xv4iK0hg",
        "outputId": "3a09cdea-63fc-45eb-87ec-e49eeb5968e7"
      },
      "outputs": [
        {
          "output_type": "stream",
          "name": "stdout",
          "text": [
            "palavra\n"
          ]
        }
      ],
      "source": [
        "def f(x):\n",
        "  print(x) # Corpo da função\n",
        "\n",
        "f('palavra')"
      ]
    },
    {
      "cell_type": "code",
      "source": [
        "nome = \"Vini\"\n",
        "\n",
        "def saudar(nome):\n",
        "  print(f\"Olá, {nome}! Seja bem-vindo!\")\n",
        "\n",
        "saudar(nome) # Pode colocar o nome direto aqui entra os ()\n"
      ],
      "metadata": {
        "colab": {
          "base_uri": "https://localhost:8080/"
        },
        "id": "omzGZRioMZy5",
        "outputId": "e86d809b-8f3c-4d73-8563-2a0540f44874"
      },
      "execution_count": null,
      "outputs": [
        {
          "output_type": "stream",
          "name": "stdout",
          "text": [
            "Olá, Vini! Seja bem-vindo!\n"
          ]
        }
      ]
    },
    {
      "cell_type": "code",
      "source": [
        "def boas_vindas(nome, cidade):\n",
        "  print(f\"Seja Bem-Vindo, {nome} de {cidade}.\")\n",
        "\n",
        "boas_vindas(\"Vini\", \"Vera Cruz\")"
      ],
      "metadata": {
        "colab": {
          "base_uri": "https://localhost:8080/"
        },
        "id": "G6gD50q-PKez",
        "outputId": "416974e9-4ca6-4686-ec88-6c4ab24326ab"
      },
      "execution_count": null,
      "outputs": [
        {
          "output_type": "stream",
          "name": "stdout",
          "text": [
            "Seja Bem-Vindo, Vini de Vera Cruz.\n"
          ]
        }
      ]
    },
    {
      "cell_type": "code",
      "source": [
        "def nome_funcao(argumento):\n",
        "  # Corpo da Função\n",
        "  resultado = argumento * 2\n",
        "\n",
        "  # Retorno da Função\n",
        "  return resultado\n",
        "\n",
        "nome_funcao(5)"
      ],
      "metadata": {
        "colab": {
          "base_uri": "https://localhost:8080/"
        },
        "id": "AbteKg0hMw1p",
        "outputId": "16bd1b95-c0ae-4224-a92e-d2539a35d077"
      },
      "execution_count": null,
      "outputs": [
        {
          "output_type": "execute_result",
          "data": {
            "text/plain": [
              "10"
            ]
          },
          "metadata": {},
          "execution_count": 11
        }
      ]
    },
    {
      "cell_type": "markdown",
      "source": [
        "## Argumentos"
      ],
      "metadata": {
        "id": "e2bOl7stQi6C"
      }
    },
    {
      "cell_type": "markdown",
      "source": [
        "**Argumentos Nomeados**\n",
        "Agora, vamos explorar os argumentos nomeados, que oferecem mais flexibilidade. Em vez de depender da ordem, podemos nomear os argumentos ao passá-los para a função. Isso torna o código mais legível e reduz a chance de erros.\n",
        "\n",
        "Usando o mesmo exemplo da função de boas-vindas, vamos chamar a função usando argumentos nomeados:\n",
        "\n",
        "print(boas_vindas(cidade=\"São Paulo\", nome=\"Bruno\")) # Saída: Seja bem-vindo, Bruno de São Paulo!\n",
        "\n",
        "Observe que, desta vez, a ordem não importa. Mesmo que \"cidade\" venha antes de \"nome\", a função entende corretamente quais são os valores de cada argumento."
      ],
      "metadata": {
        "id": "xjccpOysSie3"
      }
    },
    {
      "cell_type": "markdown",
      "source": [
        "**Argumentos Posicionais**\n",
        "Os argumentos posicionais são aqueles em que a ordem importa. Lembre-se de quando aprendemos a analogia com as funções matemáticas? Na matemática, a ordem dos parâmetros é crucial. Por exemplo, na função f(x, y), x sempre vem antes de y. No mundo da programação, não é diferente.\n",
        "\n",
        "Vamos considerar um exemplo simples. Imagine uma função que exibe uma mensagem de boas-vindas, que recebe dois argumentos: nome e cidade. Se definimos a função como:\n",
        "\n",
        "def boas_vindas(nome, cidade): return f\"Seja bem-vindo, {nome} de {cidade}!\"\n",
        "\n",
        "Quando chamamos essa função, devemos passar os argumentos na ordem correta:\n",
        "\n",
        "print(boas_vindas(\"Bruno\", \"São Paulo\")) # Saída: Seja bem-vindo, Bruno de São Paulo!\n",
        "\n",
        "Agora, se invertirmos a ordem:\n",
        "\n",
        "print(boas_vindas(\"São Paulo\", \"Bruno\")) # Saída: Seja bem-vindo, São Paulo de Bruno!\n",
        "\n",
        "Percebe o problema? A saída está invertida porque a ordem dos argumentos foi alterada. Isso ilustra claramente como os argumentos posicionais dependem da ordem para funcionar corretamente."
      ],
      "metadata": {
        "id": "Kl1FSDu5SlDv"
      }
    },
    {
      "cell_type": "code",
      "source": [
        "def vol_cubo(largura, altura, comprimento):\n",
        "  return largura * altura * comprimento\n",
        "\n",
        "  # Posicional\n",
        "vol_pos = vol_cubo(43, 3, 5)\n",
        "\n",
        "  # Nomeada\n",
        "vol_nom = vol_cubo(largura = 43, altura = 3, comprimento = 5)"
      ],
      "metadata": {
        "id": "enJAAz5ITuXf"
      },
      "execution_count": null,
      "outputs": []
    },
    {
      "cell_type": "code",
      "source": [
        "print(vol_pos, vol_nom)"
      ],
      "metadata": {
        "colab": {
          "base_uri": "https://localhost:8080/"
        },
        "id": "KIGiQuBbUYab",
        "outputId": "64b5d00a-97ba-4ff7-8d50-50bb1dd4abda"
      },
      "execution_count": null,
      "outputs": [
        {
          "output_type": "stream",
          "name": "stdout",
          "text": [
            "645 645\n"
          ]
        }
      ]
    },
    {
      "cell_type": "markdown",
      "source": [
        "## Retornando Valores"
      ],
      "metadata": {
        "id": "PHGtV5KDVPmN"
      }
    },
    {
      "cell_type": "code",
      "source": [
        "def par_impar(numero):\n",
        "  if numero % 2 == 0:\n",
        "    return 'par'\n",
        "  else:\n",
        "    return 'impar'\n",
        "\n",
        "par_impar(10)"
      ],
      "metadata": {
        "id": "d3YUfEKqVQ8C"
      },
      "execution_count": null,
      "outputs": []
    },
    {
      "cell_type": "code",
      "source": [
        "def nota_aluno(nota):\n",
        "  if nota >= 7:\n",
        "    return \"Aprovado\"\n",
        "  elif nota >= 5:\n",
        "    return \"Em Recuperação\"\n",
        "  else:\n",
        "    return \"Reprovado\"\n",
        "\n",
        "print(nota_aluno(7))"
      ],
      "metadata": {
        "id": "p914VYu6igGz"
      },
      "execution_count": null,
      "outputs": []
    },
    {
      "cell_type": "markdown",
      "source": [
        "## Argumento Padrão"
      ],
      "metadata": {
        "id": "U6jiNHSckg8t"
      }
    },
    {
      "cell_type": "code",
      "source": [
        "# ARGUMENTO PADRÃO\n",
        "def boas_vindas_padrao(nome, cidade = 'Vera Cruz'):\n",
        "  print(f\"Seja Bem-Vindo, {nome} de {cidade}\")\n",
        "\n",
        "boas_vindas_padrao('Vini')"
      ],
      "metadata": {
        "id": "hbFN4S8ekjIl"
      },
      "execution_count": null,
      "outputs": []
    },
    {
      "cell_type": "markdown",
      "source": [
        "## Documentação"
      ],
      "metadata": {
        "id": "84r1Qnyvm0PM"
      }
    },
    {
      "cell_type": "code",
      "source": [
        "\"\"\"\n",
        "Docstring\n",
        "\"\"\""
      ],
      "metadata": {
        "id": "KS5pz2CTm2MI"
      },
      "execution_count": null,
      "outputs": []
    }
  ]
}